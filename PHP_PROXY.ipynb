{
  "nbformat": 4,
  "nbformat_minor": 0,
  "metadata": {
    "colab": {
      "provenance": [],
      "include_colab_link": true
    },
    "kernelspec": {
      "name": "python3",
      "display_name": "Python 3"
    },
    "language_info": {
      "name": "python"
    }
  },
  "cells": [
    {
      "cell_type": "markdown",
      "metadata": {
        "id": "view-in-github",
        "colab_type": "text"
      },
      "source": [
        "<a href=\"https://colab.research.google.com/github/nassimspace/google-colab/blob/main/PHP_PROXY.ipynb\" target=\"_parent\"><img src=\"https://colab.research.google.com/assets/colab-badge.svg\" alt=\"Open In Colab\"/></a>"
      ]
    },
    {
      "cell_type": "markdown",
      "source": [
        "# Run all the code cells to successfully make and start the PHP proxy"
      ],
      "metadata": {
        "id": "5l8J69eyZSwa"
      }
    },
    {
      "cell_type": "code",
      "execution_count": null,
      "metadata": {
        "id": "CvTLy9RXlLIM",
        "cellView": "form"
      },
      "outputs": [],
      "source": [
        "#@title Run to setup PHP\n",
        "!bash <(wget -O - https://raw.githubusercontent.com/Athlon1600/php-proxy-installer/master/install.sh)"
      ]
    },
    {
      "cell_type": "code",
      "source": [
        "#@title Run to install ngrok\n",
        "!wget -q \"https://bin.equinox.io/c/4VmDzA7iaHb/ngrok-stable-linux-amd64.tgz\" -O ngrok.gz\n",
        "!gunzip \"ngrok.gz\"\n",
        "!tar -xf ngrok\n",
        "!mv ngrok /bin/ngrok"
      ],
      "metadata": {
        "id": "zAI9rsXs4dGK",
        "cellView": "form"
      },
      "execution_count": null,
      "outputs": []
    },
    {
      "cell_type": "code",
      "source": [
        "#@title Run to add ngrok token\n",
        "token = input(\"Enter ngrok token: \")\n",
        "!ngrok authtoken {token} 2>&1"
      ],
      "metadata": {
        "id": "A0-vMPVLc-i3",
        "cellView": "form"
      },
      "execution_count": null,
      "outputs": []
    },
    {
      "cell_type": "code",
      "source": [
        "#@title Run to install composer\n",
        "!\"$(php -r 'copy(\"https://composer.github.io/installer.sig\", \"php://stdout\");')\" > Echeck\n",
        "!php -r \"copy('https://getcomposer.org/installer', 'composer-setup.php');\"\n",
        "!\"$(php -r \"echo hash_file('sha384', 'composer-setup.php');\")\" > Acheck\n",
        "\n",
        "with open(\"Echeck\", \"r\") as f:\n",
        "  Echeck = f.read()\n",
        "with open(\"Acheck\", \"r\") as f:\n",
        "  Acheck = f.read()\n",
        "\n",
        "if Echeck != Acheck:\n",
        "  print('ERROR: Invalid installer checksum')\n",
        "  !rm composer-setup.php\n",
        "\n",
        "!php composer-setup.php 2>&1\n",
        "!php -r \"unlink('composer-setup.php');\" 2>&1\n",
        "!mv composer.phar /bin/composer 2>&1"
      ],
      "metadata": {
        "id": "Lk84_ZeZP21y",
        "cellView": "form"
      },
      "execution_count": null,
      "outputs": []
    },
    {
      "cell_type": "code",
      "source": [
        "#@title Run to install the proxy\n",
        "!composer create-project athlon1600/php-proxy-app:dev-master 2>&1"
      ],
      "metadata": {
        "id": "3UHE52KYQCy3",
        "cellView": "form"
      },
      "execution_count": null,
      "outputs": []
    },
    {
      "cell_type": "code",
      "source": [
        "#@title Run to setup proxy\n",
        "with open('php-proxy-app/config.php', 'r') as f:\n",
        "    data = f.read().split('\\n')\n",
        "\n",
        "newdat = ''\n",
        "\n",
        "for line in data:\n",
        "    if line.startswith(\"$config['app_key'] = '';\"):\n",
        "        newdat += \"$config['app_key'] = 'key12345';\\n\"\n",
        "    else:\n",
        "        newdat += line+'\\n'\n",
        "\n",
        "with open('php-proxy-app/config.php', 'w') as f:\n",
        "    f.write(newdat)"
      ],
      "metadata": {
        "id": "3cLuk18lNlZe",
        "cellView": "form"
      },
      "execution_count": null,
      "outputs": []
    },
    {
      "cell_type": "code",
      "source": [
        "#@title Run to tidy up proxy files\n",
        "%cd php-proxy-app\n",
        "!wget -q \"https://findicons.com/icon/download/direct/169016/php/128/ico\" -O favicon.ico\n",
        "!chmod +rwx -R ."
      ],
      "metadata": {
        "id": "Xv8Gdyk9ksNG",
        "cellView": "form"
      },
      "execution_count": null,
      "outputs": []
    },
    {
      "cell_type": "code",
      "source": [
        "#@title Run to start proxy\n",
        "!rm -rf ngrok.log\n",
        "\n",
        "import threading\n",
        "import time\n",
        "import os\n",
        "import re\n",
        "\n",
        "ngrok = \"ngrok tcp 8001 -log=stdout > ngrok.log\"\n",
        "php = \"php -S localhost:8001\"\n",
        "\n",
        "Ngrok = threading.Thread(None, os.system, args=(ngrok,))\n",
        "Php = threading.Thread(None, os.system, args=(php,))\n",
        "\n",
        "# Run threads\n",
        "\n",
        "Ngrok.start()\n",
        "Php.start()\n",
        "\n",
        "time.sleep(1.5)\n",
        "\n",
        "with open(\"ngrok.log\", 'r') as f:\n",
        "    data = f.read()\n",
        "\n",
        "# Regex to find URL\n",
        "\n",
        "url = re.search(\"tcp.*$\", data).group()\n",
        "\n",
        "# Turn tcp to http\n",
        "\n",
        "url = url.replace('tcp', 'http')\n",
        "\n",
        "print(url)"
      ],
      "metadata": {
        "id": "-x5hcJ5x8SJw",
        "cellView": "form"
      },
      "execution_count": null,
      "outputs": []
    }
  ]
}